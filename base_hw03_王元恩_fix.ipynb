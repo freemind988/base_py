{
  "nbformat": 4,
  "nbformat_minor": 0,
  "metadata": {
    "colab": {
      "name": "base/hw03_王元恩_fix.ipynb",
      "provenance": [],
      "collapsed_sections": [],
      "authorship_tag": "ABX9TyOGZe7VBxEmFaAwthsgHZvD",
      "include_colab_link": true
    },
    "kernelspec": {
      "name": "python3",
      "display_name": "Python 3"
    },
    "language_info": {
      "name": "python"
    }
  },
  "cells": [
    {
      "cell_type": "markdown",
      "metadata": {
        "id": "view-in-github",
        "colab_type": "text"
      },
      "source": [
        "<a href=\"https://colab.research.google.com/github/freemind988/base_py/blob/main/base_hw03_%E7%8E%8B%E5%85%83%E6%81%A9_fix.ipynb\" target=\"_parent\"><img src=\"https://colab.research.google.com/assets/colab-badge.svg\" alt=\"Open In Colab\"/></a>"
      ]
    },
    {
      "cell_type": "markdown",
      "source": [
        "## **剪刀石頭布_三戰兩勝_防呆_戰績顯示**"
      ],
      "metadata": {
        "id": "_mEV9iB4n2M1"
      }
    },
    {
      "cell_type": "code",
      "execution_count": 28,
      "metadata": {
        "colab": {
          "base_uri": "https://localhost:8080/"
        },
        "id": "3TfxDxFvmGmS",
        "outputId": "818d8b73-89a3-4784-ebac-48ce6ed78d3d"
      },
      "outputs": [
        {
          "output_type": "stream",
          "name": "stdout",
          "text": [
            "Looking in indexes: https://pypi.org/simple, https://us-python.pkg.dev/colab-wheels/public/simple/\n",
            "Requirement already satisfied: emoji in /usr/local/lib/python3.7/dist-packages (2.0.0)\n"
          ]
        }
      ],
      "source": [
        "!pip install emoji;"
      ]
    },
    {
      "cell_type": "code",
      "source": [
        "from random import randint\n",
        "import emoji\n",
        "\n",
        "print(\"-------歡迎來玩野球拳！-------\")\n",
        "name = input(f\"請輸入您的名稱：\")\n",
        "\n",
        "my_score = 0\n",
        "ai_score = 0\n",
        "tie = 0\n",
        "\n",
        "\n",
        "for i in range(1,4):\n",
        "  while True:\n",
        "    X = input(\"請輸入==>: 剪刀（0）、石頭（1）、布（2）\")\n",
        "    if X in [\"0\", \"1\", \"2\"]:\n",
        "      X = int(X)\n",
        "      break\n",
        "    else:\n",
        "      print(\"請輸入合法的選項！\")    # 防呆輸入\n",
        "\n",
        "  if X == 0:\n",
        "    print(\"您剛才出的拳為：剪刀\")\n",
        "  elif X == 1:\n",
        "    print(\"您剛才出的拳為：石頭\")\n",
        "  elif X == 2:\n",
        "    print(\"您剛才出的拳為：布\")\n",
        "    \n",
        "  #系統隨機生成 \n",
        "  import random\n",
        "  S = random.randint(0,2)\n",
        "  if S==0:\n",
        "    print(f\"AI出拳為 剪刀\")\n",
        "  elif S==1:\n",
        "    print(f\"AI出拳為 石頭\")\n",
        "  elif S== 2:\n",
        "    print(f\"AI出拳為 布\")\n",
        "    \n",
        "  #進行石頭剪刀布對決\n",
        "  if X==S:\n",
        "    print(\"平手\")\n",
        "    tie += 1\n",
        "  elif X+2==S or X>S:\n",
        "    print(\"你贏了AI\")\n",
        "    my_score += 1\n",
        "  elif S+2==X or S>X:\n",
        "    print(\"AI贏了\")\n",
        "    ai_score += 1\n",
        "\n",
        "\n",
        "\n",
        "print(name + \" 分數: \" + str(my_score))\n",
        "print(\"AI分數: \" + str(ai_score))\n",
        "print(\"平手: \" + str(tie))\n",
        "print(\"==================================================================\")\n",
        "\n",
        "\n",
        "# 判斷最終勝利者\n",
        "if my_score > ai_score:\n",
        "  print(emoji.emojize(\"恭喜你是勝利者:thumbs_up:！\"))\n",
        "\n",
        "elif my_score < ai_score:\n",
        "  print(emoji.emojize(\"你輸了:thumbs_down:！\"))\n",
        "\n",
        "else:\n",
        "  print(emoji.emojize(\"平手啦:thumbs_smiling:！\"))\n",
        "\n",
        "\n",
        "print(f\"感謝你玩野球拳！\")\n"
      ],
      "metadata": {
        "colab": {
          "base_uri": "https://localhost:8080/"
        },
        "id": "ztCtqxrTmIhI",
        "outputId": "d9658e99-2a4d-495f-d3b3-782c302d9b9f"
      },
      "execution_count": 29,
      "outputs": [
        {
          "output_type": "stream",
          "name": "stdout",
          "text": [
            "-------歡迎來玩野球拳！-------\n",
            "請輸入您的名稱：ausbcoabd\n",
            "請輸入==>: 剪刀（0）、石頭（1）、布（2）1\n",
            "您剛才出的拳為：石頭\n",
            "AI出拳為 布\n",
            "AI贏了\n",
            "請輸入==>: 剪刀（0）、石頭（1）、布（2）2\n",
            "您剛才出的拳為：布\n",
            "AI出拳為 石頭\n",
            "你贏了AI\n",
            "請輸入==>: 剪刀（0）、石頭（1）、布（2）1\n",
            "您剛才出的拳為：石頭\n",
            "AI出拳為 布\n",
            "AI贏了\n",
            "ausbcoabd 分數: 1\n",
            "AI分數: 2\n",
            "平手: 0\n",
            "==================================================================\n",
            "你輸了👎！\n",
            "感謝你玩野球拳！\n"
          ]
        }
      ]
    }
  ]
}