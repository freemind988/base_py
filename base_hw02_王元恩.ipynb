{
  "nbformat": 4,
  "nbformat_minor": 0,
  "metadata": {
    "colab": {
      "name": "base/hw02_王元恩.ipynb",
      "provenance": [],
      "collapsed_sections": [],
      "authorship_tag": "ABX9TyMH5vlMUUjPH+UdX3DCWbHG",
      "include_colab_link": true
    },
    "kernelspec": {
      "name": "python3",
      "display_name": "Python 3"
    },
    "language_info": {
      "name": "python"
    }
  },
  "cells": [
    {
      "cell_type": "markdown",
      "metadata": {
        "id": "view-in-github",
        "colab_type": "text"
      },
      "source": [
        "<a href=\"https://colab.research.google.com/github/freemind988/base_py/blob/main/base_hw02_%E7%8E%8B%E5%85%83%E6%81%A9.ipynb\" target=\"_parent\"><img src=\"https://colab.research.google.com/assets/colab-badge.svg\" alt=\"Open In Colab\"/></a>"
      ]
    },
    {
      "cell_type": "code",
      "execution_count": 1,
      "metadata": {
        "colab": {
          "base_uri": "https://localhost:8080/"
        },
        "id": "A9pZydf0hZ9x",
        "outputId": "aeb46608-95ce-46fb-a150-fd084d4564ca"
      },
      "outputs": [
        {
          "output_type": "stream",
          "name": "stdout",
          "text": [
            "-------歡迎來玩野球拳！-------\n",
            "請輸入您的名稱：Robert\n",
            "請輸入==>: 剪刀（0）、石頭（1）、布（2）1\n",
            "您剛才出的拳為：石頭\n",
            "AI出拳為 剪刀\n",
            "你贏了AI\n",
            "請輸入==>: 剪刀（0）、石頭（1）、布（2）2\n",
            "您剛才出的拳為：布\n",
            "請輸入合法的選項！\n",
            "AI出拳為 剪刀\n",
            "你贏了AI\n",
            "請輸入==>: 剪刀（0）、石頭（1）、布（2）0\n",
            "您剛才出的拳為：剪刀\n",
            "AI出拳為 布\n",
            "你贏了AI\n",
            "Robert 分數: 3\n",
            "電腦分數: 0\n",
            "平手: 0\n",
            "==================================================================\n",
            "感謝你玩野球拳！\n"
          ]
        }
      ],
      "source": [
        "from random import randint\n",
        "\n",
        "print(\"-------歡迎來玩野球拳！-------\")\n",
        "\n",
        "name = input(f\"請輸入您的名稱：\")\n",
        "\n",
        "user_score = 0\n",
        "ai_score = 0\n",
        "tie = 0\n",
        "\n",
        "\n",
        "for i in range(1, 4):\n",
        "  #獲取自己輸入的結果\n",
        "  X = int( input(\"請輸入==>: 剪刀（0）、石頭（1）、布（2）\"))\n",
        "  if  X == 0:\n",
        "    print(\"您剛才出的拳為：剪刀\") \n",
        "  elif X == 1:\n",
        "    print(\"您剛才出的拳為：石頭\")\n",
        "  elif X == 2:\n",
        "    print(\"您剛才出的拳為：布\")\n",
        "\n",
        "    if X in [\"0\", \"1\", \"2\"]:\n",
        "      X = int(X)\n",
        "      break\n",
        "    else:\n",
        "      print(\"請輸入合法的選項！\")\n",
        "    \n",
        "  #系統隨機生成 \n",
        "  import random       \n",
        "  S = random.randint(0,2)    \n",
        "  if  S==0:\n",
        "    print(f\"AI出拳為 剪刀\")  \n",
        "  elif S==1:\n",
        "    print(f\"AI出拳為 石頭\")\n",
        "  elif S== 2:\n",
        "    print(f\"AI出拳為 布\")\n",
        "    \n",
        "  #進行石頭剪刀布對決\n",
        "  if X==S:\n",
        "    print(\"平手\")\n",
        "    tie += 1\n",
        "  elif X+2==S or X>S:\n",
        "    print(\"你贏了AI\")\n",
        "    user_score += 1\n",
        "  elif S+2==X or S>X:\n",
        "    print(\"AI贏了\")\n",
        "    ai_score += 1\n",
        "\n",
        "print(name + \" 分數: \" + str(user_score))\n",
        "print(\"電腦分數: \" + str(ai_score))\n",
        "print(\"平手: \" + str(tie))\n",
        "print(\"==================================================================\")\n",
        "print(\"感謝你玩野球拳！\")"
      ]
    }
  ]
}